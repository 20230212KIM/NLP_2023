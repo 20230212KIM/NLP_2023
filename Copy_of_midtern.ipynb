{
  "nbformat": 4,
  "nbformat_minor": 0,
  "metadata": {
    "colab": {
      "provenance": [],
      "authorship_tag": "ABX9TyNwj46V+sdyGcukKyMBZqZs",
      "include_colab_link": true
    },
    "kernelspec": {
      "name": "python3",
      "display_name": "Python 3"
    },
    "language_info": {
      "name": "python"
    }
  },
  "cells": [
    {
      "cell_type": "markdown",
      "metadata": {
        "id": "view-in-github",
        "colab_type": "text"
      },
      "source": [
        "<a href=\"https://colab.research.google.com/github/20230212KIM/NLP_2023/blob/main/Copy_of_midtern.ipynb\" target=\"_parent\"><img src=\"https://colab.research.google.com/assets/colab-badge.svg\" alt=\"Open In Colab\"/></a>"
      ]
    },
    {
      "cell_type": "markdown",
      "source": [
        "Number(숫자), String(문자열), List(리스트), Tuple(튜플), Dictionary(사전)\n",
        "\n",
        "List []\n",
        "\n",
        "Tuple ()\n",
        "\n",
        "key-value 1:2\n",
        "Indexing 시작은 0부터 끝은 -1부터임\n",
        "\n",
        "  for 구성요소 in 범위: #list, tuple, dictionary, range\n",
        "      반복으로 실행할 코드 #e.g., 수행할 문장\n",
        "\n",
        "    or/and  \n",
        "\n",
        "  for 아래 코드라인 변수 in 범위:\n",
        "      반복으로 실행할 코드 #e.g., 수행할 문장"
      ],
      "metadata": {
        "id": "mSqFY7o2Gx7s"
      }
    },
    {
      "cell_type": "code",
      "execution_count": null,
      "metadata": {
        "colab": {
          "base_uri": "https://localhost:8080/"
        },
        "id": "t-d1tAyCGd17",
        "outputId": "b8fb7b9b-320e-4fd8-aaa9-35a0b7116b41"
      },
      "outputs": [
        {
          "output_type": "stream",
          "name": "stdout",
          "text": [
            "{'a': 1, 'b': 2, 'c': 3}\n",
            "1\n"
          ]
        }
      ],
      "source": [
        "dict = {'a':1, 'b':2, 'c':3}\n",
        "print (dict)\n",
        "print(dict['a'])"
      ]
    },
    {
      "cell_type": "code",
      "source": [
        "dict={'a':1,'b':2,'c':3}\n",
        "print(dict)\n",
        "dict['a']=7\n",
        "print(dict)"
      ],
      "metadata": {
        "id": "7wTWegF-HwkR"
      },
      "execution_count": null,
      "outputs": []
    },
    {
      "cell_type": "code",
      "source": [
        "list_data = ['apple', 'banana', 'grapes', 'mango']\n",
        "list_data[0]=\"shine musket\"\n",
        "\n",
        "print (list_data)"
      ],
      "metadata": {
        "colab": {
          "base_uri": "https://localhost:8080/"
        },
        "id": "b3ls8-UGISdk",
        "outputId": "3680d2ea-bab4-4d1d-fbde-a6400f7a769b"
      },
      "execution_count": null,
      "outputs": [
        {
          "output_type": "stream",
          "name": "stdout",
          "text": [
            "['shine musket', 'banana', 'grapes', 'mango']\n"
          ]
        }
      ]
    },
    {
      "cell_type": "code",
      "source": [
        "tuple_data=('apple','banana')\n",
        "print(tuple_data)\n",
        "tuple_data[0]='shine musket' #리스트는 되지만 튜플은 되지 않음"
      ],
      "metadata": {
        "colab": {
          "base_uri": "https://localhost:8080/",
          "height": 233
        },
        "id": "5-YSIZqPIUtM",
        "outputId": "684c9a0e-2fd5-43f6-b61d-6f404f7db3d1"
      },
      "execution_count": null,
      "outputs": [
        {
          "output_type": "stream",
          "name": "stdout",
          "text": [
            "('apple', 'banana')\n"
          ]
        },
        {
          "output_type": "error",
          "ename": "TypeError",
          "evalue": "ignored",
          "traceback": [
            "\u001b[0;31m---------------------------------------------------------------------------\u001b[0m",
            "\u001b[0;31mTypeError\u001b[0m                                 Traceback (most recent call last)",
            "\u001b[0;32m<ipython-input-3-7120c2f5f76c>\u001b[0m in \u001b[0;36m<cell line: 3>\u001b[0;34m()\u001b[0m\n\u001b[1;32m      1\u001b[0m \u001b[0mtuple_data\u001b[0m\u001b[0;34m=\u001b[0m\u001b[0;34m(\u001b[0m\u001b[0;34m'apple'\u001b[0m\u001b[0;34m,\u001b[0m\u001b[0;34m'banana'\u001b[0m\u001b[0;34m)\u001b[0m\u001b[0;34m\u001b[0m\u001b[0;34m\u001b[0m\u001b[0m\n\u001b[1;32m      2\u001b[0m \u001b[0mprint\u001b[0m\u001b[0;34m(\u001b[0m\u001b[0mtuple_data\u001b[0m\u001b[0;34m)\u001b[0m\u001b[0;34m\u001b[0m\u001b[0;34m\u001b[0m\u001b[0m\n\u001b[0;32m----> 3\u001b[0;31m \u001b[0mtuple_data\u001b[0m\u001b[0;34m[\u001b[0m\u001b[0;36m0\u001b[0m\u001b[0;34m]\u001b[0m\u001b[0;34m=\u001b[0m\u001b[0;34m'shine musket'\u001b[0m \u001b[0;31m#리스트는 되지만 튜플은 되지 않음\u001b[0m\u001b[0;34m\u001b[0m\u001b[0;34m\u001b[0m\u001b[0m\n\u001b[0m",
            "\u001b[0;31mTypeError\u001b[0m: 'tuple' object does not support item assignment"
          ]
        }
      ]
    },
    {
      "cell_type": "code",
      "source": [
        "str_data = 'Time is money!!'\n",
        "print(str_data[1:5])\n",
        "print(str_data[:7])\n",
        "print(str_data[9:])\n",
        "print(str_data[:-3])\n",
        "print(str_data[-3:])\n",
        "print(str_data[:])\n",
        "print(str_data[::2]) # 처음부터 끝까지 스텝을 2로 해서 슬라이싱 하기."
      ],
      "metadata": {
        "colab": {
          "base_uri": "https://localhost:8080/"
        },
        "id": "VCkaqXE4IntE",
        "outputId": "46924d22-7c94-42c4-8aab-b77153192637"
      },
      "execution_count": null,
      "outputs": [
        {
          "output_type": "stream",
          "name": "stdout",
          "text": [
            "ime \n",
            "Time is\n",
            "oney!!\n",
            "Time is mone\n",
            "y!!\n",
            "Time is money!!\n",
            "Tm smny!\n"
          ]
        }
      ]
    },
    {
      "cell_type": "code",
      "source": [
        "seq='abcdefghijklmnopqrstuvwxyz'\n",
        "print(seq[5:])\n",
        "print(seq[:-2])\n",
        "print(seq[::2])\n",
        "print(seq[::3])\n",
        "print(seq[25])\n",
        "print(len(seq))"
      ],
      "metadata": {
        "colab": {
          "base_uri": "https://localhost:8080/"
        },
        "id": "UcPXMfhiJEQ-",
        "outputId": "7d0c249f-c681-4c24-ad02-0027a75a2228"
      },
      "execution_count": null,
      "outputs": [
        {
          "output_type": "stream",
          "name": "stdout",
          "text": [
            "fghijklmnopqrstuvwxyz\n",
            "abcdefghijklmnopqrstuvwx\n",
            "acegikmoqsuwy\n",
            "adgjmpsvy\n",
            "z\n",
            "26\n"
          ]
        }
      ]
    },
    {
      "cell_type": "code",
      "source": [
        "subject='BTS'; verb='sings';object='Butter'; space=' '\n",
        "print(subject+verb+object)\n",
        "print(subject+' '+verb+' '+object)\n",
        "print(subject+space+verb+space+object)\n",
        "print(subject+space+verb+space+object*1000)"
      ],
      "metadata": {
        "colab": {
          "base_uri": "https://localhost:8080/"
        },
        "id": "JDcA4s34Ji9U",
        "outputId": "e2cac960-1c3b-4e49-bacd-7fe36379b257"
      },
      "execution_count": null,
      "outputs": [
        {
          "output_type": "stream",
          "name": "stdout",
          "text": [
            "BTSsingsButter\n",
            "BTS sings Butter\n",
            "BTS sings Butter\n",
            "BTS sings ButterButterButterButterButterButterButterButterButterButterButterButterButterButterButterButterButterButterButterButterButterButterButterButterButterButterButterButterButterButterButterButterButterButterButterButterButterButterButterButterButterButterButterButterButterButterButterButterButterButterButterButterButterButterButterButterButterButterButterButterButterButterButterButterButterButterButterButterButterButterButterButterButterButterButterButterButterButterButterButterButterButterButterButterButterButterButterButterButterButterButterButterButterButterButterButterButterButterButterButterButterButterButterButterButterButterButterButterButterButterButterButterButterButterButterButterButterButterButterButterButterButterButterButterButterButterButterButterButterButterButterButterButterButterButterButterButterButterButterButterButterButterButterButterButterButterButterButterButterButterButterButterButterButterButterButterButterButterButterButterButterButterButterButterButterButterButterButterButterButterButterButterButterButterButterButterButterButterButterButterButterButterButterButterButterButterButterButterButterButterButterButterButterButterButterButterButterButterButterButterButterButterButterButterButterButterButterButterButterButterButterButterButterButterButterButterButterButterButterButterButterButterButterButterButterButterButterButterButterButterButterButterButterButterButterButterButterButterButterButterButterButterButterButterButterButterButterButterButterButterButterButterButterButterButterButterButterButterButterButterButterButterButterButterButterButterButterButterButterButterButterButterButterButterButterButterButterButterButterButterButterButterButterButterButterButterButterButterButterButterButterButterButterButterButterButterButterButterButterButterButterButterButterButterButterButterButterButterButterButterButterButterButterButterButterButterButterButterButterButterButterButterButterButterButterButterButterButterButterButterButterButterButterButterButterButterButterButterButterButterButterButterButterButterButterButterButterButterButterButterButterButterButterButterButterButterButterButterButterButterButterButterButterButterButterButterButterButterButterButterButterButterButterButterButterButterButterButterButterButterButterButterButterButterButterButterButterButterButterButterButterButterButterButterButterButterButterButterButterButterButterButterButterButterButterButterButterButterButterButterButterButterButterButterButterButterButterButterButterButterButterButterButterButterButterButterButterButterButterButterButterButterButterButterButterButterButterButterButterButterButterButterButterButterButterButterButterButterButterButterButterButterButterButterButterButterButterButterButterButterButterButterButterButterButterButterButterButterButterButterButterButterButterButterButterButterButterButterButterButterButterButterButterButterButterButterButterButterButterButterButterButterButterButterButterButterButterButterButterButterButterButterButterButterButterButterButterButterButterButterButterButterButterButterButterButterButterButterButterButterButterButterButterButterButterButterButterButterButterButterButterButterButterButterButterButterButterButterButterButterButterButterButterButterButterButterButterButterButterButterButterButterButterButterButterButterButterButterButterButterButterButterButterButterButterButterButterButterButterButterButterButterButterButterButterButterButterButterButterButterButterButterButterButterButterButterButterButterButterButterButterButterButterButterButterButterButterButterButterButterButterButterButterButterButterButterButterButterButterButterButterButterButterButterButterButterButterButterButterButterButterButterButterButterButterButterButterButterButterButterButterButterButterButterButterButterButterButterButterButterButterButterButterButterButterButterButterButterButterButterButterButterButterButterButterButterButterButterButterButterButterButterButterButterButterButterButterButterButterButterButterButterButterButterButterButterButterButterButterButterButterButterButterButterButterButterButterButterButterButterButterButterButterButterButterButterButterButterButterButterButterButterButterButterButterButterButterButterButterButterButterButterButterButterButterButterButterButterButterButterButterButterButterButterButterButterButterButterButterButterButterButterButterButterButterButterButterButterButterButterButterButterButterButterButterButterButterButterButterButterButterButterButterButterButterButterButterButterButterButterButterButterButterButterButterButterButterButterButterButterButterButterButterButterButterButterButterButterButterButterButterButterButterButterButterButterButterButterButterButterButterButterButterButterButterButterButterButterButterButterButterButterButterButterButterButterButterButterButterButterButterButterButterButterButterButterButterButterButterButterButterButterButterButterButterButterButterButterButterButterButterButterButterButterButterButterButterButterButterButterButterButterButterButterButterButterButterButterButterButterButterButterButterButterButterButterButterButterButterButterButterButterButterButterButterButterButterButterButterButterButterButterButterButterButterButterButterButterButterButterButterButterButterButterButterButterButterButterButterButterButterButterButterButterButterButterButterButterButterButterButterButterButterButterButterButterButterButterButterButterButterButterButterButterButterButterButterButterButterButterButterButterButterButterButterButterButterButterButterButterButterButterButterButterButterButterButterButterButterButterButterButterButterButterButterButterButterButterButterButterButterButterButterButterButterButterButterButterButterButterButterButterButterButterButterButterButterButterButterButterButterButterButterButterButterButterButterButterButterButterButterButterButterButterButterButterButterButterButterButterButterButterButterButterButterButterButterButterButterButter\n"
          ]
        }
      ]
    },
    {
      "cell_type": "code",
      "source": [
        "print(len(strdata3))\n",
        "print(strdata3[64])"
      ],
      "metadata": {
        "id": "QGO38qwSJnbe"
      },
      "execution_count": null,
      "outputs": []
    },
    {
      "cell_type": "code",
      "source": [
        "numbers = 1,2,3,4,5,6,7,8,9\n",
        "\n",
        "for i in numbers: # 'i' represents for integers.\n",
        "  print(i)\n",
        "\n"
      ],
      "metadata": {
        "colab": {
          "base_uri": "https://localhost:8080/"
        },
        "id": "PsXnjDzPK2Zx",
        "outputId": "5575f8a8-1e43-4f2c-95fd-271680d469da"
      },
      "execution_count": null,
      "outputs": [
        {
          "output_type": "stream",
          "name": "stdout",
          "text": [
            "1\n",
            "2\n",
            "3\n",
            "4\n",
            "5\n",
            "6\n",
            "7\n",
            "8\n",
            "9\n"
          ]
        }
      ]
    },
    {
      "cell_type": "code",
      "source": [
        "for x in range(3):\n",
        "  print(x)\n",
        "\n",
        "type(x)\n",
        "\n"
      ],
      "metadata": {
        "colab": {
          "base_uri": "https://localhost:8080/"
        },
        "id": "jR3SUqJqLPBB",
        "outputId": "8e15b040-100a-4907-9c69-31207a5975a7"
      },
      "execution_count": null,
      "outputs": [
        {
          "output_type": "stream",
          "name": "stdout",
          "text": [
            "0\n",
            "1\n",
            "2\n"
          ]
        },
        {
          "output_type": "execute_result",
          "data": {
            "text/plain": [
              "int"
            ]
          },
          "metadata": {},
          "execution_count": 7
        }
      ]
    },
    {
      "cell_type": "code",
      "source": [
        "for z in range(0):\n",
        "  print(z)\n"
      ],
      "metadata": {
        "id": "yMolfiN7LcyA"
      },
      "execution_count": null,
      "outputs": []
    },
    {
      "cell_type": "code",
      "source": [
        "list_fruit = [\"apple\", \"banana\", \"grape\", \"strawberry\", \"pear\", \"mango\"]\n",
        "\n",
        "for i in list_fruit:\n",
        "  print(i)\n"
      ],
      "metadata": {
        "colab": {
          "base_uri": "https://localhost:8080/"
        },
        "id": "VdoxiWR6LkB1",
        "outputId": "0693d631-f5de-46fd-b11f-2f9cb5f33a77"
      },
      "execution_count": null,
      "outputs": [
        {
          "output_type": "stream",
          "name": "stdout",
          "text": [
            "apple\n",
            "banana\n",
            "grape\n",
            "strawberry\n",
            "pear\n",
            "mango\n"
          ]
        }
      ]
    },
    {
      "cell_type": "code",
      "source": [
        "string='abcde'\n",
        "for c in string:\n",
        "  print(c)\n"
      ],
      "metadata": {
        "colab": {
          "base_uri": "https://localhost:8080/"
        },
        "id": "5GVLi8i9LqgB",
        "outputId": "3ad926fc-19cb-45d3-93df-bdcdb404d0a6"
      },
      "execution_count": null,
      "outputs": [
        {
          "output_type": "stream",
          "name": "stdout",
          "text": [
            "a\n",
            "b\n",
            "c\n",
            "d\n",
            "e\n"
          ]
        }
      ]
    },
    {
      "cell_type": "code",
      "source": [
        "list_int=[1,2,3,4,5]\n",
        "for c in list_int:\n",
        "  print(c)\n",
        "\n",
        "\n",
        "print(list_int[0])\n",
        "print([0])\n"
      ],
      "metadata": {
        "colab": {
          "base_uri": "https://localhost:8080/"
        },
        "id": "TEaEknHzLut-",
        "outputId": "f954fc0e-9728-436e-c972-0ad60c993350"
      },
      "execution_count": null,
      "outputs": [
        {
          "output_type": "stream",
          "name": "stdout",
          "text": [
            "1\n",
            "2\n",
            "3\n",
            "4\n",
            "5\n",
            "1\n",
            "[0]\n"
          ]
        }
      ]
    },
    {
      "cell_type": "code",
      "source": [
        "\n",
        "dictionary = {'a':97, 'b':98, 'c':99}\n",
        "\n",
        "for i in dictionary:\n",
        "  print(i)"
      ],
      "metadata": {
        "colab": {
          "base_uri": "https://localhost:8080/"
        },
        "id": "mcc11gBWL2ys",
        "outputId": "833554ba-055d-46a7-f86b-e835a6e755df"
      },
      "execution_count": null,
      "outputs": [
        {
          "output_type": "stream",
          "name": "stdout",
          "text": [
            "a\n",
            "b\n",
            "c\n"
          ]
        }
      ]
    },
    {
      "cell_type": "code",
      "source": [
        "dic2={'a':100,'b':200,'c':300}\n",
        "for i in dic2:\n",
        "  print(i)\n",
        "print(dic2['a'])\n",
        "print(dic2['b'])\n",
        "print(dic2['c'])\n",
        "print(['a'])\n",
        "\n",
        "list=[100,200,300]\n",
        "for y in list:\n",
        "  print(y)\n",
        "print(list[0])\n",
        "\n",
        "#print(dic2[0]) #오류남 왜냐면 리스트와 튜플과 달리 키와 답을 동시에 보여줄 수 있는 것은 없음"
      ],
      "metadata": {
        "colab": {
          "base_uri": "https://localhost:8080/"
        },
        "id": "wzj2utLoMGuQ",
        "outputId": "630da574-2d43-4bac-fc54-018dde38ac98"
      },
      "execution_count": null,
      "outputs": [
        {
          "output_type": "stream",
          "name": "stdout",
          "text": [
            "a\n",
            "b\n",
            "c\n",
            "100\n",
            "200\n",
            "300\n",
            "['a']\n",
            "100\n",
            "200\n",
            "300\n",
            "100\n"
          ]
        }
      ]
    },
    {
      "cell_type": "code",
      "source": [
        "scope2=[1,2,3,4,5,6,7,8,9,10,11]\n",
        "for i in scope2:\n",
        "  print(i)\n",
        "  if i<10:\n",
        "    continue\n",
        "  else:\n",
        "    break"
      ],
      "metadata": {
        "colab": {
          "base_uri": "https://localhost:8080/"
        },
        "id": "PUzEnva0MVay",
        "outputId": "e0e38c8e-7fda-4e12-f5de-e2a133bd8e38"
      },
      "execution_count": null,
      "outputs": [
        {
          "output_type": "stream",
          "name": "stdout",
          "text": [
            "1\n",
            "2\n",
            "3\n",
            "4\n",
            "5\n",
            "6\n",
            "7\n",
            "8\n",
            "9\n",
            "10\n"
          ]
        }
      ]
    },
    {
      "cell_type": "code",
      "source": [
        "scope=[1,2,3,4,5]\n",
        "for x in scope:\n",
        "  print(x)\n",
        "else:\n",
        "  print('Perfect')\n",
        "\n"
      ],
      "metadata": {
        "colab": {
          "base_uri": "https://localhost:8080/"
        },
        "id": "CKjkNclEMhwo",
        "outputId": "384ab3be-a3f1-4704-886f-519698c7b2db"
      },
      "execution_count": null,
      "outputs": [
        {
          "output_type": "stream",
          "name": "stdout",
          "text": [
            "1\n",
            "2\n",
            "3\n",
            "4\n",
            "5\n",
            "Perfect\n"
          ]
        }
      ]
    },
    {
      "cell_type": "code",
      "source": [
        "\n",
        "list=[1,2,3]\n",
        "for i in list:\n",
        "  print(i)\n",
        "  break  ##파이썬200제에는 print (x) 다음에 break 코드라인이 있는데, 이것은 요소가 범위에 있을 때 결과를 보여주는게 1 개 밖에 안된다. 실수\n",
        "else:\n",
        "  print('Perfect')"
      ],
      "metadata": {
        "colab": {
          "base_uri": "https://localhost:8080/"
        },
        "id": "rtrZ8x04Mnle",
        "outputId": "0b192908-4952-40a0-cb59-35d75bd32074"
      },
      "execution_count": null,
      "outputs": [
        {
          "output_type": "stream",
          "name": "stdout",
          "text": [
            "1\n"
          ]
        }
      ]
    }
  ]
}