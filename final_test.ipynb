{
  "nbformat": 4,
  "nbformat_minor": 0,
  "metadata": {
    "colab": {
      "provenance": [],
      "authorship_tag": "ABX9TyO68jBYWZ5WZ5euudXUykJ6",
      "include_colab_link": true
    },
    "kernelspec": {
      "name": "python3",
      "display_name": "Python 3"
    },
    "language_info": {
      "name": "python"
    }
  },
  "cells": [
    {
      "cell_type": "markdown",
      "metadata": {
        "id": "view-in-github",
        "colab_type": "text"
      },
      "source": [
        "<a href=\"https://colab.research.google.com/github/20230212KIM/NLP_2023/blob/main/final_test.ipynb\" target=\"_parent\"><img src=\"https://colab.research.google.com/assets/colab-badge.svg\" alt=\"Open In Colab\"/></a>"
      ]
    },
    {
      "cell_type": "code",
      "execution_count": 1,
      "metadata": {
        "colab": {
          "base_uri": "https://localhost:8080/"
        },
        "id": "rRQup-YGr_CA",
        "outputId": "cedbda5f-632f-44fb-d473-e89f04d58112"
      },
      "outputs": [
        {
          "output_type": "execute_result",
          "data": {
            "text/plain": [
              "10"
            ]
          },
          "metadata": {},
          "execution_count": 1
        }
      ],
      "source": [
        "class FourCal:\n",
        "  def setdata(self, first, second):\n",
        "    self.first = first\n",
        "    self.second =second\n",
        "a = FourCal()\n",
        "b = FourCal()\n",
        "a.setdata(10,20)\n",
        "b.setdata(300,400)\n",
        "a.first"
      ]
    },
    {
      "cell_type": "code",
      "source": [
        "class FourCal:\n",
        "  def setdata(self, first, second):\n",
        "    self.first = first\n",
        "    self.second = second\n",
        "\n",
        "  def add(self):\n",
        "    result = self.first + self.second\n",
        "    return result\n",
        "  def sub(self):\n",
        "    result = self.first - self.second\n",
        "    return result\n",
        "\n",
        "  def mul(self):\n",
        "    result = self.first * self.second\n",
        "    return result\n",
        "\n",
        "  def div(self):\n",
        "    result = self.first / self.second\n",
        "    return result\n",
        "\n",
        "a = FourCal()\n",
        "b = FourCal()\n",
        "\n",
        "a.setdata(10,20)\n",
        "b.setdata(300,400)\n",
        "b.sub()\n",
        "a.mul()"
      ],
      "metadata": {
        "colab": {
          "base_uri": "https://localhost:8080/"
        },
        "id": "Bjm2ZboIuTmi",
        "outputId": "59d3c2a0-0940-4a20-e08f-0e49337f6ae0"
      },
      "execution_count": 5,
      "outputs": [
        {
          "output_type": "execute_result",
          "data": {
            "text/plain": [
              "200"
            ]
          },
          "metadata": {},
          "execution_count": 5
        }
      ]
    },
    {
      "cell_type": "code",
      "source": [
        "class MoreFourCal(FourCal):\n",
        "  def pow(self):\n",
        "    result = self.first ** self.second #제곱!\n",
        "    return result\n",
        "\n",
        "a = MoreFourCal()\n",
        "a.setdata(10,20)\n",
        "a.pow()"
      ],
      "metadata": {
        "colab": {
          "base_uri": "https://localhost:8080/"
        },
        "id": "FFGO4rr9utv-",
        "outputId": "1bc316e4-d060-4168-8a41-84bc026b25d3"
      },
      "execution_count": 6,
      "outputs": [
        {
          "output_type": "execute_result",
          "data": {
            "text/plain": [
              "100000000000000000000"
            ]
          },
          "metadata": {},
          "execution_count": 6
        }
      ]
    },
    {
      "cell_type": "code",
      "source": [
        "class Family():\n",
        "  lastname = 'Chandler'\n",
        "\n",
        "a = Family()\n",
        "b = Family()\n",
        "\n",
        "Family.lastname = 'Poppins' #이러면 바뀜!\n",
        "a.lastname #클래스변수는 클래스이름.클래스변수로 사용"
      ],
      "metadata": {
        "colab": {
          "base_uri": "https://localhost:8080/",
          "height": 36
        },
        "id": "5HNTSR3Ru_xU",
        "outputId": "32220130-5ae5-4653-d735-1ce439b6404e"
      },
      "execution_count": 8,
      "outputs": [
        {
          "output_type": "execute_result",
          "data": {
            "text/plain": [
              "'Poppins'"
            ],
            "application/vnd.google.colaboratory.intrinsic+json": {
              "type": "string"
            }
          },
          "metadata": {},
          "execution_count": 8
        }
      ]
    },
    {
      "cell_type": "code",
      "source": [
        "class Calculator:\n",
        "    def initialize(self): #The initialize method is used to set the initial value of self.result to 0\n",
        "        self.result = 0\n",
        "\n",
        "    def add(self, num):\n",
        "        self.result += num\n",
        "        return self.result\n",
        "\n",
        "    def sub(self, num):\n",
        "        self.result -= num\n",
        "        return self.result\n",
        "\n",
        "# Create an instance of the Calculator class\n",
        "calc = Calculator()\n",
        "\n",
        "# Initialize the calculator's result\n",
        "calc.initialize()\n",
        "\n",
        "# Perform addition and subtraction\n",
        "result_add = calc.add(1)\n",
        "result_sub = calc.sub(1)\n",
        "\n",
        "print(result_add)\n",
        "print(result_sub)"
      ],
      "metadata": {
        "id": "QfndZSygvkM2"
      },
      "execution_count": null,
      "outputs": []
    },
    {
      "cell_type": "markdown",
      "source": [
        "In the term \"UTF-8,\" the number 8 refers to the number of bits used to encode characters in the UTF-8 character encoding scheme. UTF-8 is a variable-width encoding that can use 8, 16, or 24 bits to represent characters, but the most commonly used range is the 8-bit representation. This means that characters in UTF-8 can be encoded using 1 to 4 bytes, with the most common characters (those in the ASCII character set) represented using a single byte (8 bits). UTF-8은 가변 폭 인코딩으로, 문자를 나타내는 데 8, 16 또는 24비트를 사용할 수 있지만, 가장 일반적으로 사용되는 범위는 8비트 표현입니다. 이는 UTF-8에서 문자를 1바이트에서 4바이트까지 인코딩할 수 있음을 의미하며, 가장 일반적인 문자(ASCII 문자 집합에 속하는 문자)는 1바이트(8비트)로 표현됩니다\n",
        "## 📙 **Open & Close**\n",
        "\n",
        "| 모드     | 설명  |\n",
        "|:--------|:-:|\n",
        "| r or rt | 텍스트 모드로 읽기 |\n",
        "| w or wt | 텍스트 모드로 쓰기 |\n",
        "| a or at | 텍스트 모드로 파일 마지막에 추가하기 |\n",
        "| rb| binary 모드로 읽기 |\n",
        "| wb | binary 모드로 쓰기 |\n",
        "| ab| binary 모드로 마지막에 추가하기|\n",
        ">\n",
        "#### 🎲 파일을 열 때에는 내장함수 (open(인자1, 인자2))을 사용한다."
      ],
      "metadata": {
        "id": "y8B3NFXLw4wM"
      }
    },
    {
      "cell_type": "code",
      "source": [
        "from urllib.request import urlopen\n",
        "\n",
        "url = 'https://google.com/'\n",
        "\n",
        "with urlopen(url) as f:\n",
        "  content = f.read().decode()\n",
        "  with open('google_html', 'w') as cf:\n",
        "    cf.write(content)"
      ],
      "metadata": {
        "id": "VwsEheD2w5ZH"
      },
      "execution_count": null,
      "outputs": []
    },
    {
      "cell_type": "code",
      "source": [
        "file=open('/content/sample_data/Crime_Punishment_ChOne_Part.txt','rt')\n",
        "\n",
        "txt = file.read()\n",
        "print(txt)\n",
        "file.close()"
      ],
      "metadata": {
        "colab": {
          "base_uri": "https://localhost:8080/"
        },
        "id": "5fIyeJPmxSyW",
        "outputId": "04ee5ad6-57d2-4eaa-f56c-04e3005a7a97"
      },
      "execution_count": 10,
      "outputs": [
        {
          "output_type": "stream",
          "name": "stdout",
          "text": [
            "He had successfully avoided meeting his landlady on the stairs. His closet of a room was under the roof of a high, five-floor house and was more like a cupboard than a place in which to live. The landlady who provided him with the room and with dinner and service lived on the floor below, and every time he went out he was obliged to pass her kitchen, the door of which was always open. And each time he passed, the young man had a sick, frightened feeling, which made him grimace and feel ashamed. He was hopelessly in debt to his landlady and was afraid of meeting her.\n",
            "\n",
            "This was not because he was cowardly and browbeaten, quite the contrary; but for some time past he had been in an overstrained irritable condition, verging on hypochondria. He had become so completely absorbed in himself and isolated from everyone else that he dreaded meeting not only his landlady, but anyone at all. He was crushed by poverty, but even the anxieties of his position had recently ceased to weigh upon him. He had given up attending to matters of practical importance; he had lost all desire to do so. In fact, nothing that any landlady could do held any terror for him. But to be stopped on the stairs, to be forced to listen to her trivial, irrelevant gossip, to pestering demands for payment, threats and complaints, all the while racking his brains for excuses, avoiding the issue, lying — no, he would rather creep down the stairs like a cat and slip out unseen.\n",
            "\n",
            "However, when he emerged onto the street that evening, he became acutely aware of his fears.\n",
            "\n",
            "“I want to attempt a thing like that and am frightened by these trifles,” he thought, with an odd smile. “Hm . . . yes, everything is in someone’s hands and they let it all slip out of cowardice, that’s an axiom. It would be interesting to know what it is people are most afraid of. Taking a new step, uttering a new word is what they fear most . . . But I am talking too much. It’s because I babble that I do nothing. Or perhaps it is that I babble because I do nothing. I’ve learned to babble this last month, lying for days on end in my corner thinking . . . just nonsense. Why am I going there now? Am I capable of that? Is that seriously possible? I’m not serious about it at all. It’s just a fantasy to amuse myself; a plaything! Yes, maybe it is a plaything.”\n",
            "\n",
            "The heat in the street was terrible: and the airlessness, the bustle, the plaster, the scaffolding, the bricks and the dust all around him, and that special Petersburg stench, so familiar to everyone who is unable to get out of town during the summer — all worked painfully upon the young man’s already overwrought nerves. The unbearable stench from the taverns, which are particularly numerous in that part of the town, and the drunken men whom he met continually, although it was a weekday, completed the revolting misery of the picture. An expression of the deepest disgust gleamed for a moment in the young man’s refined face. He was, by the way, exceptionally handsome, above average in height, slim, well-built, with beautiful dark eyes and dark brown hair. Soon, though, he sank into deep thought, or more accurately speaking into a complete blankness of mind; he walked along not observing what was around him and not caring to observe it. From time to time, because he used to talk to himself, he would mutter something, a habit to which he had just confessed. At these moments he would become conscious that his ideas were sometimes in a tangle and that he was very weak; for two days he had had almost nothing to eat.\n",
            "\n",
            "He was so badly dressed that even a man accustomed to shabbiness would have been ashamed to be seen in the street in such rags. In that part of town, however, scarcely any shortcoming in dress would have created surprise. Due to the proximity of the Haymarket, the number of establishments of a certain kind and the overwhelming numbers of craftsmen and workers crowded in these streets and alleys at the center of Petersburg, so many different types of people were to be seen in the streets that no figure, however strange, would have caused surprise. But there was such accumulated spite and contempt in the young man’s heart, that, in spite of all the cares of youth, he minded his rags least of all. It was a different matter when he met with acquaintances or with former fellow students, whom, indeed, he disliked meeting at any time. And yet when a drunken man who, for some unknown reason, was being taken somewhere in a huge cart dragged by a heavy cart-horse, suddenly shouted at him as he drove past, “Hey there, German hatter,” bellowing at the top of his voice and pointing at him — the young man stopped suddenly and clutched trembling at his hat. It was a tall round one from Zimmermann’s, but completely worn out, rusty with age, all torn and bespattered, brimless and bent on one side in a most hideous fashion. Not shame, however, but another feeling akin to terror had overtaken him.\n"
          ]
        }
      ]
    },
    {
      "cell_type": "code",
      "source": [
        "import urllib.request\n",
        "url = \"https://raw.githubusercontent.com/ms624atyale/Temp_Data/main/Crime_Punishment_ChOne_Part.txt\"\n",
        "response = urllib.request.urlopen(url)\n",
        "content= response.read().decode('utf-8')\n",
        "print(content)"
      ],
      "metadata": {
        "colab": {
          "base_uri": "https://localhost:8080/"
        },
        "id": "TVQDY0sixtR_",
        "outputId": "643a9504-f621-48b7-cd37-9a3f1aa129c1"
      },
      "execution_count": 11,
      "outputs": [
        {
          "output_type": "stream",
          "name": "stdout",
          "text": [
            "He had successfully avoided meeting his landlady on the stairs. His closet of a room was under the roof of a high, five-floor house and was more like a cupboard than a place in which to live. The landlady who provided him with the room and with dinner and service lived on the floor below, and every time he went out he was obliged to pass her kitchen, the door of which was always open. And each time he passed, the young man had a sick, frightened feeling, which made him grimace and feel ashamed. He was hopelessly in debt to his landlady and was afraid of meeting her.\n",
            "\n",
            "This was not because he was cowardly and browbeaten, quite the contrary; but for some time past he had been in an overstrained irritable condition, verging on hypochondria. He had become so completely absorbed in himself and isolated from everyone else that he dreaded meeting not only his landlady, but anyone at all. He was crushed by poverty, but even the anxieties of his position had recently ceased to weigh upon him. He had given up attending to matters of practical importance; he had lost all desire to do so. In fact, nothing that any landlady could do held any terror for him. But to be stopped on the stairs, to be forced to listen to her trivial, irrelevant gossip, to pestering demands for payment, threats and complaints, all the while racking his brains for excuses, avoiding the issue, lying — no, he would rather creep down the stairs like a cat and slip out unseen.\n",
            "\n",
            "However, when he emerged onto the street that evening, he became acutely aware of his fears.\n",
            "\n",
            "“I want to attempt a thing like that and am frightened by these trifles,” he thought, with an odd smile. “Hm . . . yes, everything is in someone’s hands and they let it all slip out of cowardice, that’s an axiom. It would be interesting to know what it is people are most afraid of. Taking a new step, uttering a new word is what they fear most . . . But I am talking too much. It’s because I babble that I do nothing. Or perhaps it is that I babble because I do nothing. I’ve learned to babble this last month, lying for days on end in my corner thinking . . . just nonsense. Why am I going there now? Am I capable of that? Is that seriously possible? I’m not serious about it at all. It’s just a fantasy to amuse myself; a plaything! Yes, maybe it is a plaything.”\n",
            "\n",
            "The heat in the street was terrible: and the airlessness, the bustle, the plaster, the scaffolding, the bricks and the dust all around him, and that special Petersburg stench, so familiar to everyone who is unable to get out of town during the summer — all worked painfully upon the young man’s already overwrought nerves. The unbearable stench from the taverns, which are particularly numerous in that part of the town, and the drunken men whom he met continually, although it was a weekday, completed the revolting misery of the picture. An expression of the deepest disgust gleamed for a moment in the young man’s refined face. He was, by the way, exceptionally handsome, above average in height, slim, well-built, with beautiful dark eyes and dark brown hair. Soon, though, he sank into deep thought, or more accurately speaking into a complete blankness of mind; he walked along not observing what was around him and not caring to observe it. From time to time, because he used to talk to himself, he would mutter something, a habit to which he had just confessed. At these moments he would become conscious that his ideas were sometimes in a tangle and that he was very weak; for two days he had had almost nothing to eat.\n",
            "\n",
            "He was so badly dressed that even a man accustomed to shabbiness would have been ashamed to be seen in the street in such rags. In that part of town, however, scarcely any shortcoming in dress would have created surprise. Due to the proximity of the Haymarket, the number of establishments of a certain kind and the overwhelming numbers of craftsmen and workers crowded in these streets and alleys at the center of Petersburg, so many different types of people were to be seen in the streets that no figure, however strange, would have caused surprise. But there was such accumulated spite and contempt in the young man’s heart, that, in spite of all the cares of youth, he minded his rags least of all. It was a different matter when he met with acquaintances or with former fellow students, whom, indeed, he disliked meeting at any time. And yet when a drunken man who, for some unknown reason, was being taken somewhere in a huge cart dragged by a heavy cart-horse, suddenly shouted at him as he drove past, “Hey there, German hatter,” bellowing at the top of his voice and pointing at him — the young man stopped suddenly and clutched trembling at his hat. It was a tall round one from Zimmermann’s, but completely worn out, rusty with age, all torn and bespattered, brimless and bent on one side in a most hideous fashion. Not shame, however, but another feeling akin to terror had overtaken him.\n"
          ]
        }
      ]
    },
    {
      "cell_type": "code",
      "source": [
        "from urllib.request import urlopen\n",
        "\n",
        "url = \"https://raw.githubusercontent.com/ms624atyale/Temp_Data/main/Crime_Punishment_ChOne_Part.txt\"\n",
        "\n",
        "with urlopen(url) as f:\n",
        "  content =f.read().decode()\n",
        "  with open('crime_punish_copied.html','wt') as cf:\n",
        "    cf.write(content)\n",
        "\n",
        "file = open(\"/content/crime_punish_copied.html\", \"rt\")\n",
        "file.read()"
      ],
      "metadata": {
        "colab": {
          "base_uri": "https://localhost:8080/",
          "height": 143
        },
        "id": "9A7pCtjKyDz2",
        "outputId": "d00344e1-aea9-4bb3-afed-94fb028392e5"
      },
      "execution_count": 12,
      "outputs": [
        {
          "output_type": "execute_result",
          "data": {
            "text/plain": [
              "'He had successfully avoided meeting his landlady on the stairs. His closet of a room was under the roof of a high, five-floor house and was more like a cupboard than a place in which to live. The landlady who provided him with the room and with dinner and service lived on the floor below, and every time he went out he was obliged to pass her kitchen, the door of which was always open. And each time he passed, the young man had a sick, frightened feeling, which made him grimace and feel ashamed. He was hopelessly in debt to his landlady and was afraid of meeting her.\\n\\nThis was not because he was cowardly and browbeaten, quite the contrary; but for some time past he had been in an overstrained irritable condition, verging on hypochondria. He had become so completely absorbed in himself and isolated from everyone else that he dreaded meeting not only his landlady, but anyone at all. He was crushed by poverty, but even the anxieties of his position had recently ceased to weigh upon him. He had given up attending to matters of practical importance; he had lost all desire to do so. In fact, nothing that any landlady could do held any terror for him. But to be stopped on the stairs, to be forced to listen to her trivial, irrelevant gossip, to pestering demands for payment, threats and complaints, all the while racking his brains for excuses, avoiding the issue, lying — no, he would rather creep down the stairs like a cat and slip out unseen.\\n\\nHowever, when he emerged onto the street that evening, he became acutely aware of his fears.\\n\\n“I want to attempt a thing like that and am frightened by these trifles,” he thought, with an odd smile. “Hm . . . yes, everything is in someone’s hands and they let it all slip out of cowardice, that’s an axiom. It would be interesting to know what it is people are most afraid of. Taking a new step, uttering a new word is what they fear most . . . But I am talking too much. It’s because I babble that I do nothing. Or perhaps it is that I babble because I do nothing. I’ve learned to babble this last month, lying for days on end in my corner thinking . . . just nonsense. Why am I going there now? Am I capable of that? Is that seriously possible? I’m not serious about it at all. It’s just a fantasy to amuse myself; a plaything! Yes, maybe it is a plaything.”\\n\\nThe heat in the street was terrible: and the airlessness, the bustle, the plaster, the scaffolding, the bricks and the dust all around him, and that special Petersburg stench, so familiar to everyone who is unable to get out of town during the summer — all worked painfully upon the young man’s already overwrought nerves. The unbearable stench from the taverns, which are particularly numerous in that part of the town, and the drunken men whom he met continually, although it was a weekday, completed the revolting misery of the picture. An expression of the deepest disgust gleamed for a moment in the young man’s refined face. He was, by the way, exceptionally handsome, above average in height, slim, well-built, with beautiful dark eyes and dark brown hair. Soon, though, he sank into deep thought, or more accurately speaking into a complete blankness of mind; he walked along not observing what was around him and not caring to observe it. From time to time, because he used to talk to himself, he would mutter something, a habit to which he had just confessed. At these moments he would become conscious that his ideas were sometimes in a tangle and that he was very weak; for two days he had had almost nothing to eat.\\n\\nHe was so badly dressed that even a man accustomed to shabbiness would have been ashamed to be seen in the street in such rags. In that part of town, however, scarcely any shortcoming in dress would have created surprise. Due to the proximity of the Haymarket, the number of establishments of a certain kind and the overwhelming numbers of craftsmen and workers crowded in these streets and alleys at the center of Petersburg, so many different types of people were to be seen in the streets that no figure, however strange, would have caused surprise. But there was such accumulated spite and contempt in the young man’s heart, that, in spite of all the cares of youth, he minded his rags least of all. It was a different matter when he met with acquaintances or with former fellow students, whom, indeed, he disliked meeting at any time. And yet when a drunken man who, for some unknown reason, was being taken somewhere in a huge cart dragged by a heavy cart-horse, suddenly shouted at him as he drove past, “Hey there, German hatter,” bellowing at the top of his voice and pointing at him — the young man stopped suddenly and clutched trembling at his hat. It was a tall round one from Zimmermann’s, but completely worn out, rusty with age, all torn and bespattered, brimless and bent on one side in a most hideous fashion. Not shame, however, but another feeling akin to terror had overtaken him.'"
            ],
            "application/vnd.google.colaboratory.intrinsic+json": {
              "type": "string"
            }
          },
          "metadata": {},
          "execution_count": 12
        }
      ]
    },
    {
      "cell_type": "markdown",
      "source": [
        "# 🎒🎒 Python Moduess\n",
        "  - Python functions 로 구성\n",
        "  - **from 페키지이름 import 모듈이름**\n",
        "  - **import** **페키지.모듈이름 <font color='green'>[외부 페키지 경우]**</font>\n",
        "  - **import 모듈이름 <font color='purple'>[Python 내장 페키지 경우]**</font>\n",
        "  - **import 모듈이름 as Abbreviation**\n",
        "\n",
        "\n",
        "# 🏀 ⚽ ⚾ 🎾 Python functions\n",
        "  - 외부 모듈에 있는 함수\n",
        "  - import 모듈이름.함수이름()\n",
        "  - from 모듈이름 import 함수이름"
      ],
      "metadata": {
        "id": "JuZv0OEEygqv"
      }
    },
    {
      "cell_type": "code",
      "source": [
        "!pip install nltk\n",
        "import nltk\n",
        "from nltk.tokenize import word_tokenize, sent_tokenize\n",
        "nltk.download(\"punkt\")"
      ],
      "metadata": {
        "colab": {
          "base_uri": "https://localhost:8080/"
        },
        "id": "uR25meW_yh-4",
        "outputId": "a11ea1c3-cc5e-420c-f252-b0f16b653bb5"
      },
      "execution_count": 13,
      "outputs": [
        {
          "output_type": "stream",
          "name": "stdout",
          "text": [
            "Requirement already satisfied: nltk in /usr/local/lib/python3.10/dist-packages (3.8.1)\n",
            "Requirement already satisfied: click in /usr/local/lib/python3.10/dist-packages (from nltk) (8.1.7)\n",
            "Requirement already satisfied: joblib in /usr/local/lib/python3.10/dist-packages (from nltk) (1.3.2)\n",
            "Requirement already satisfied: regex>=2021.8.3 in /usr/local/lib/python3.10/dist-packages (from nltk) (2023.6.3)\n",
            "Requirement already satisfied: tqdm in /usr/local/lib/python3.10/dist-packages (from nltk) (4.66.1)\n"
          ]
        },
        {
          "output_type": "stream",
          "name": "stderr",
          "text": [
            "[nltk_data] Downloading package punkt to /root/nltk_data...\n",
            "[nltk_data]   Unzipping tokenizers/punkt.zip.\n"
          ]
        },
        {
          "output_type": "execute_result",
          "data": {
            "text/plain": [
              "True"
            ]
          },
          "metadata": {},
          "execution_count": 13
        }
      ]
    },
    {
      "cell_type": "code",
      "source": [
        "import os                 #Python built-in os module 불러 들이기\n",
        "os.mkdir\n",
        "!pip install nltk\n",
        "text = \"Python programming is a high-level, interpreted programming language known for its simplicity and readability. It emphasizes code readability with its clean syntax, making it easier to write and understand. Python supports multiple programming paradigms, including procedural, object-oriented, and functional programming. It has a vast standard library and a thriving ecosystem of third-party libraries and frameworks, making it suitable for various domains such as web development, data analysis, machine learning, and automation. Python's versatility, ease of use, and extensive community support have contributed to its popularity among developers of all skill levels.\"\n",
        "from nltk.tokenize import sent_tokenize\n",
        "sentence = sent_tokenize(text)\n",
        "print('문장 토큰화: %s' %sentence)"
      ],
      "metadata": {
        "colab": {
          "base_uri": "https://localhost:8080/"
        },
        "id": "zKKf7_V2yxoJ",
        "outputId": "9c5d0729-c86e-484e-dc39-9eb2ed15b391"
      },
      "execution_count": 15,
      "outputs": [
        {
          "output_type": "stream",
          "name": "stdout",
          "text": [
            "Requirement already satisfied: nltk in /usr/local/lib/python3.10/dist-packages (3.8.1)\n",
            "Requirement already satisfied: click in /usr/local/lib/python3.10/dist-packages (from nltk) (8.1.7)\n",
            "Requirement already satisfied: joblib in /usr/local/lib/python3.10/dist-packages (from nltk) (1.3.2)\n",
            "Requirement already satisfied: regex>=2021.8.3 in /usr/local/lib/python3.10/dist-packages (from nltk) (2023.6.3)\n",
            "Requirement already satisfied: tqdm in /usr/local/lib/python3.10/dist-packages (from nltk) (4.66.1)\n",
            "문장 토큰화: ['Python programming is a high-level, interpreted programming language known for its simplicity and readability.', 'It emphasizes code readability with its clean syntax, making it easier to write and understand.', 'Python supports multiple programming paradigms, including procedural, object-oriented, and functional programming.', 'It has a vast standard library and a thriving ecosystem of third-party libraries and frameworks, making it suitable for various domains such as web development, data analysis, machine learning, and automation.', \"Python's versatility, ease of use, and extensive community support have contributed to its popularity among developers of all skill levels.\"]\n"
          ]
        }
      ]
    },
    {
      "cell_type": "code",
      "source": [
        "text = \"\"\"\n",
        "When violence in Israel and Gaza escalated after last month's terror attack by Hamas, the International Olympic Committee (IOC) issued a statement warning against \"discriminatory behavior\" against Israeli athletes competing around the world.\n",
        "\n",
        "\"[A]thletes cannot be held responsible for the actions of their governments,\" an IOC spokesperson told the German Press Agency, promising \"swift action\" if incidents occur.\n",
        "\n",
        "Russian officials reacted angrily to the IOC's stance toward Israel, noting that in October the Russian Olympic Committee was suspended for actions taken in occupied regions of eastern Ukraine.\n",
        "\n",
        "\"This is, of course, outrageous,\" said Russian Foreign Minister Sergey Lavrov, in an interview posted on Telegram. \"Once again we see an example of the bias and ineptitude of the International Olympic Committee, which time and again proves its political bent.\"\n",
        "\"\"\"\n",
        "\n",
        "count = len(text)\n",
        "print(count)\n",
        "print('The text of the article:', text)"
      ],
      "metadata": {
        "colab": {
          "base_uri": "https://localhost:8080/"
        },
        "id": "PuL_-XwnzHtZ",
        "outputId": "3c867a7f-ba43-46fb-e6b9-a3a501158ab2"
      },
      "execution_count": 14,
      "outputs": [
        {
          "output_type": "stream",
          "name": "stdout",
          "text": [
            "874\n",
            "The text of the article: \n",
            "When violence in Israel and Gaza escalated after last month's terror attack by Hamas, the International Olympic Committee (IOC) issued a statement warning against \"discriminatory behavior\" against Israeli athletes competing around the world.\n",
            "\n",
            "\"[A]thletes cannot be held responsible for the actions of their governments,\" an IOC spokesperson told the German Press Agency, promising \"swift action\" if incidents occur.\n",
            "\n",
            "Russian officials reacted angrily to the IOC's stance toward Israel, noting that in October the Russian Olympic Committee was suspended for actions taken in occupied regions of eastern Ukraine.\n",
            "\n",
            "\"This is, of course, outrageous,\" said Russian Foreign Minister Sergey Lavrov, in an interview posted on Telegram. \"Once again we see an example of the bias and ineptitude of the International Olympic Committee, which time and again proves its political bent.\"\n",
            "\n"
          ]
        }
      ]
    },
    {
      "cell_type": "code",
      "source": [
        "text = \"\"\"\n",
        "When violence in Israel and Gaza escalated after last month's terror attack by Hamas, the International Olympic Committee (IOC) issued a statement warning against \"discriminatory behavior\" against Israeli athletes competing around the world.\n",
        "\n",
        "\"[A]thletes cannot be held responsible for the actions of their governments,\" an IOC spokesperson told the German Press Agency, promising \"swift action\" if incidents occur.\n",
        "\n",
        "Russian officials reacted angrily to the IOC's stance toward Israel, noting that in October the Russian Olympic Committee was suspended for actions taken in occupied regions of eastern Ukraine.\n",
        "\n",
        "\"This is, of course, outrageous,\" said Russian Foreign Minister Sergey Lavrov, in an interview posted on Telegram. \"Once again we see an example of the bias and ineptitude of the International Olympic Committee, which time and again proves its political bent.\"\n",
        "\"\"\"\n",
        "\n",
        "text_nl = text.replace('\\n', ' ')\n",
        "\n",
        "count = len(text)\n",
        "print(count)\n",
        "print('The text of the article:', text_nl)"
      ],
      "metadata": {
        "colab": {
          "base_uri": "https://localhost:8080/"
        },
        "id": "6yiaKnoTzMgt",
        "outputId": "3776aee4-104d-4d8e-ef78-eca709c42ead"
      },
      "execution_count": 16,
      "outputs": [
        {
          "output_type": "stream",
          "name": "stdout",
          "text": [
            "874\n",
            "The text of the article:  When violence in Israel and Gaza escalated after last month's terror attack by Hamas, the International Olympic Committee (IOC) issued a statement warning against \"discriminatory behavior\" against Israeli athletes competing around the world.  \"[A]thletes cannot be held responsible for the actions of their governments,\" an IOC spokesperson told the German Press Agency, promising \"swift action\" if incidents occur.  Russian officials reacted angrily to the IOC's stance toward Israel, noting that in October the Russian Olympic Committee was suspended for actions taken in occupied regions of eastern Ukraine.  \"This is, of course, outrageous,\" said Russian Foreign Minister Sergey Lavrov, in an interview posted on Telegram. \"Once again we see an example of the bias and ineptitude of the International Olympic Committee, which time and again proves its political bent.\" \n"
          ]
        }
      ]
    },
    {
      "cell_type": "code",
      "source": [
        "def tokenize_and_lower(text):\n",
        "    # Tokenize the text into words (split by whitespace and punctuation)\n",
        "    words = text.split()\n",
        "    # Convert words to lowercase\n",
        "    words_lower = [word.lower() for word in words]\n",
        "    return words_lower\n",
        "\n",
        "# Define the text as you copy and paste something from an internet webstie.\n",
        "text = \"\"\"\n",
        "When violence in Israel and Gaza escalated after last month's terror attack by Hamas, the International Olympic Committee (IOC) issued a statement warning against \"discriminatory behavior\" against Israeli athletes competing around the world.\n",
        "\n",
        "\"[A]thletes cannot be held responsible for the actions of their governments,\" an IOC spokesperson told the German Press Agency, promising \"swift action\" if incidents occur.\n",
        "\n",
        "Russian officials reacted angrily to the IOC's stance toward Israel, noting that in October the Russian Olympic Committee was suspended for actions taken in occupied regions of eastern Ukraine.\n",
        "\n",
        "\"This is, of course, outrageous,\" said Russian Foreign Minister Sergey Lavrov, in an interview posted on Telegram. \"Once again we see an example of the bias and ineptitude of the International Olympic Committee, which time and again proves its political bent.\"\n",
        "\"\"\"\n",
        "\n",
        "# Get the tokens in lowercase\n",
        "tokens_lower = tokenize_and_lower(text)\n",
        "\n",
        "# Calculate TTR (Type-Token Ratio)\n",
        "unique_words = set(tokens_lower)\n",
        "ttr = len(unique_words) / len(tokens_lower)\n",
        "\n",
        "# Print the TTR, list of tokens, and list of unique words (types)\n",
        "print(\"Type-Token Ratio (TTR):\", ttr)\n",
        "print(\"Unique words (Types):\", sorted(unique_words))\n",
        "print(\"Tokens in Lowercase:\", tokens_lower)"
      ],
      "metadata": {
        "colab": {
          "base_uri": "https://localhost:8080/"
        },
        "id": "aPU12yyjzSKV",
        "outputId": "ad5340c6-08e3-4733-8712-0dd35cf763f5"
      },
      "execution_count": 17,
      "outputs": [
        {
          "output_type": "stream",
          "name": "stdout",
          "text": [
            "Type-Token Ratio (TTR): 0.78125\n",
            "Unique words (Types): ['\"[a]thletes', '\"discriminatory', '\"once', '\"swift', '\"this', '(ioc)', 'a', 'action\"', 'actions', 'after', 'again', 'against', 'agency,', 'an', 'and', 'angrily', 'around', 'athletes', 'attack', 'be', 'behavior\"', 'bent.\"', 'bias', 'by', 'cannot', 'committee', 'committee,', 'competing', 'course,', 'eastern', 'escalated', 'example', 'for', 'foreign', 'gaza', 'german', 'governments,\"', 'hamas,', 'held', 'if', 'in', 'incidents', 'ineptitude', 'international', 'interview', 'ioc', \"ioc's\", 'is,', 'israel', 'israel,', 'israeli', 'issued', 'its', 'last', 'lavrov,', 'minister', \"month's\", 'noting', 'occupied', 'occur.', 'october', 'of', 'officials', 'olympic', 'on', 'outrageous,\"', 'political', 'posted', 'press', 'promising', 'proves', 'reacted', 'regions', 'responsible', 'russian', 'said', 'see', 'sergey', 'spokesperson', 'stance', 'statement', 'suspended', 'taken', 'telegram.', 'terror', 'that', 'the', 'their', 'time', 'to', 'told', 'toward', 'ukraine.', 'violence', 'warning', 'was', 'we', 'when', 'which', 'world.']\n",
            "Tokens in Lowercase: ['when', 'violence', 'in', 'israel', 'and', 'gaza', 'escalated', 'after', 'last', \"month's\", 'terror', 'attack', 'by', 'hamas,', 'the', 'international', 'olympic', 'committee', '(ioc)', 'issued', 'a', 'statement', 'warning', 'against', '\"discriminatory', 'behavior\"', 'against', 'israeli', 'athletes', 'competing', 'around', 'the', 'world.', '\"[a]thletes', 'cannot', 'be', 'held', 'responsible', 'for', 'the', 'actions', 'of', 'their', 'governments,\"', 'an', 'ioc', 'spokesperson', 'told', 'the', 'german', 'press', 'agency,', 'promising', '\"swift', 'action\"', 'if', 'incidents', 'occur.', 'russian', 'officials', 'reacted', 'angrily', 'to', 'the', \"ioc's\", 'stance', 'toward', 'israel,', 'noting', 'that', 'in', 'october', 'the', 'russian', 'olympic', 'committee', 'was', 'suspended', 'for', 'actions', 'taken', 'in', 'occupied', 'regions', 'of', 'eastern', 'ukraine.', '\"this', 'is,', 'of', 'course,', 'outrageous,\"', 'said', 'russian', 'foreign', 'minister', 'sergey', 'lavrov,', 'in', 'an', 'interview', 'posted', 'on', 'telegram.', '\"once', 'again', 'we', 'see', 'an', 'example', 'of', 'the', 'bias', 'and', 'ineptitude', 'of', 'the', 'international', 'olympic', 'committee,', 'which', 'time', 'and', 'again', 'proves', 'its', 'political', 'bent.\"']\n"
          ]
        }
      ]
    }
  ]
}