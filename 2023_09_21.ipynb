{
  "nbformat": 4,
  "nbformat_minor": 0,
  "metadata": {
    "colab": {
      "provenance": [],
      "authorship_tag": "ABX9TyNcsRk10xPmTMpzhxiaIBJY",
      "include_colab_link": true
    },
    "kernelspec": {
      "name": "python3",
      "display_name": "Python 3"
    },
    "language_info": {
      "name": "python"
    }
  },
  "cells": [
    {
      "cell_type": "markdown",
      "metadata": {
        "id": "view-in-github",
        "colab_type": "text"
      },
      "source": [
        "<a href=\"https://colab.research.google.com/github/20230212KIM/NLP_2023/blob/main/2023_09_21.ipynb\" target=\"_parent\"><img src=\"https://colab.research.google.com/assets/colab-badge.svg\" alt=\"Open In Colab\"/></a>"
      ]
    },
    {
      "cell_type": "code",
      "execution_count": null,
      "metadata": {
        "id": "wxG1jstx-nCg"
      },
      "outputs": [],
      "source": [
        "a='jin'\n",
        "print(a)\n",
        "\n",
        "b='yoongi'\n",
        "print(b)\n",
        "\n",
        "a_b='hoseok'\n",
        "print(a_b)\n",
        "\n",
        "c_d='namjoon'\n",
        "print(c_d)\n",
        "\n",
        "a_c='jimin'\n",
        "print(a_c)\n",
        "\n",
        "b_d='tae'\n",
        "print(b_d)\n",
        "\n",
        "j='jungkook'\n",
        "print(j)\n",
        "b=[\"namjoon\", \"seokjin\", \"yoongi\", \"hoseok\", \"jimin\", \"taehyung\", \"jungkook\"] #Names of bts\n",
        "n=[\"김남준\", \"김석진\", \"민윤기\", \"정호석\", \"박지민\", \"김태형\", \"전정국\" ] #멤버 이름\n",
        "s=[1,2,3,4,5,6,7]\n",
        "print(b)\n",
        "print(n)\n",
        "print(s)\n",
        "\n",
        "dict={'a':1,'b':2,'c':3}\n",
        "print (dict)\n",
        "print(dict['a'])\n",
        "dict_data={'c':10,'b':20,'a':30}\n",
        "print(dict_data)\n",
        "dict_data['a'] = 300\n",
        "print(dict_data)\n",
        "\n",
        "\n",
        "\n"
      ]
    }
  ]
}