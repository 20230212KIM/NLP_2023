{
  "nbformat": 4,
  "nbformat_minor": 0,
  "metadata": {
    "colab": {
      "provenance": [],
      "toc_visible": true,
      "authorship_tag": "ABX9TyN4HEy/hjsrxDbkqa+o+P7X",
      "include_colab_link": true
    },
    "kernelspec": {
      "name": "python3",
      "display_name": "Python 3"
    },
    "language_info": {
      "name": "python"
    }
  },
  "cells": [
    {
      "cell_type": "markdown",
      "metadata": {
        "id": "view-in-github",
        "colab_type": "text"
      },
      "source": [
        "<a href=\"https://colab.research.google.com/github/20230212KIM/NLP_2023/blob/main/2023.09.12.ipynb\" target=\"_parent\"><img src=\"https://colab.research.google.com/assets/colab-badge.svg\" alt=\"Open In Colab\"/></a>"
      ]
    },
    {
      "cell_type": "code",
      "execution_count": 1,
      "metadata": {
        "id": "Sci6mjbCMNNA",
        "colab": {
          "base_uri": "https://localhost:8080/"
        },
        "outputId": "bff94f39-d0ab-49e0-bbf0-7709be328782"
      },
      "outputs": [
        {
          "output_type": "stream",
          "name": "stdout",
          "text": [
            "3\n",
            "3\n",
            "-1\n",
            "0.5\n",
            "0\n",
            "1\n",
            "2\n",
            "1\n",
            "1\n",
            "102\n"
          ]
        }
      ],
      "source": [
        "a=1\n",
        "b=2\n",
        "print(a+b)\n",
        "c=3\n",
        "print(c)\n",
        "print(a-b)\n",
        "print(a/b)\n",
        "print(a//b)\n",
        "print(a%b)\n",
        "print(a*b)\n",
        "print(a**b)\n",
        "print(c-b)\n",
        "a=100\n",
        "print (a+b)"
      ]
    }
  ]
}